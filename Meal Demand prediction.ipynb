{
 "cells": [
  {
   "cell_type": "code",
   "execution_count": 1,
   "id": "2264e505",
   "metadata": {},
   "outputs": [
    {
     "name": "stderr",
     "output_type": "stream",
     "text": [
      "C:\\Users\\hp\\anaconda3\\lib\\site-packages\\numpy\\_distributor_init.py:30: UserWarning: loaded more than 1 DLL from .libs:\n",
      "C:\\Users\\hp\\anaconda3\\lib\\site-packages\\numpy\\.libs\\libopenblas.PYQHXLVVQ7VESDPUVUADXEVJOBGHJPAY.gfortran-win_amd64.dll\n",
      "C:\\Users\\hp\\anaconda3\\lib\\site-packages\\numpy\\.libs\\libopenblas.WCDJNK7YVMPZQ2ME2ZZHJJRJ3JIKNDB7.gfortran-win_amd64.dll\n",
      "  warnings.warn(\"loaded more than 1 DLL from .libs:\\n%s\" %\n"
     ]
    }
   ],
   "source": [
    "import pandas as pd\n",
    "import numpy as np\n",
    "import matplotlib.pyplot as plt\n",
    "import seaborn as sns"
   ]
  },
  {
   "cell_type": "code",
   "execution_count": 2,
   "id": "d31c4ce6",
   "metadata": {},
   "outputs": [],
   "source": [
    "\n",
    "#Variable Definition\n",
    "# id\tUnique ID\n",
    "# week\tWeek No\n",
    "# center_id\tUnique ID for fulfillment center\n",
    "# meal_id\tUnique ID for Meal\n",
    "# checkout_price\tFinal price including discount, taxes & delivery charges\n",
    "# base_price\tBase price of the meal\n",
    "# emailer_for_promotion\tEmailer sent for promotion of meal\n",
    "# homepage_featured\tMeal featured at homepage\n",
    "# num_orders\t(Target) Orders Count"
   ]
  },
  {
   "cell_type": "code",
   "execution_count": 259,
   "id": "ff0c1cc0",
   "metadata": {},
   "outputs": [],
   "source": [
    "df1 = pd.read_csv(r'traindata.csv')"
   ]
  },
  {
   "cell_type": "code",
   "execution_count": 4,
   "id": "122c3aee",
   "metadata": {},
   "outputs": [],
   "source": [
    "df2 = pd.read_csv(r'meal_info.csv')"
   ]
  },
  {
   "cell_type": "code",
   "execution_count": 5,
   "id": "72fa246e",
   "metadata": {},
   "outputs": [],
   "source": [
    "df3 = pd.read_csv(r'fulfilment_center_info.csv')"
   ]
  },
  {
   "cell_type": "code",
   "execution_count": 6,
   "id": "ec430e01",
   "metadata": {},
   "outputs": [
    {
     "data": {
      "text/html": [
       "<div>\n",
       "<style scoped>\n",
       "    .dataframe tbody tr th:only-of-type {\n",
       "        vertical-align: middle;\n",
       "    }\n",
       "\n",
       "    .dataframe tbody tr th {\n",
       "        vertical-align: top;\n",
       "    }\n",
       "\n",
       "    .dataframe thead th {\n",
       "        text-align: right;\n",
       "    }\n",
       "</style>\n",
       "<table border=\"1\" class=\"dataframe\">\n",
       "  <thead>\n",
       "    <tr style=\"text-align: right;\">\n",
       "      <th></th>\n",
       "      <th>id</th>\n",
       "      <th>week</th>\n",
       "      <th>center_id</th>\n",
       "      <th>meal_id</th>\n",
       "      <th>checkout_price</th>\n",
       "      <th>base_price</th>\n",
       "      <th>emailer_for_promotion</th>\n",
       "      <th>homepage_featured</th>\n",
       "      <th>num_orders</th>\n",
       "    </tr>\n",
       "  </thead>\n",
       "  <tbody>\n",
       "    <tr>\n",
       "      <th>0</th>\n",
       "      <td>1379560</td>\n",
       "      <td>1</td>\n",
       "      <td>55</td>\n",
       "      <td>1885</td>\n",
       "      <td>136.83</td>\n",
       "      <td>152.29</td>\n",
       "      <td>0</td>\n",
       "      <td>0</td>\n",
       "      <td>177</td>\n",
       "    </tr>\n",
       "  </tbody>\n",
       "</table>\n",
       "</div>"
      ],
      "text/plain": [
       "        id  week  center_id  meal_id  checkout_price  base_price  \\\n",
       "0  1379560     1         55     1885          136.83      152.29   \n",
       "\n",
       "   emailer_for_promotion  homepage_featured  num_orders  \n",
       "0                      0                  0         177  "
      ]
     },
     "execution_count": 6,
     "metadata": {},
     "output_type": "execute_result"
    }
   ],
   "source": [
    "df1.head(1)"
   ]
  },
  {
   "cell_type": "code",
   "execution_count": 7,
   "id": "453dbcaa",
   "metadata": {},
   "outputs": [
    {
     "data": {
      "text/html": [
       "<div>\n",
       "<style scoped>\n",
       "    .dataframe tbody tr th:only-of-type {\n",
       "        vertical-align: middle;\n",
       "    }\n",
       "\n",
       "    .dataframe tbody tr th {\n",
       "        vertical-align: top;\n",
       "    }\n",
       "\n",
       "    .dataframe thead th {\n",
       "        text-align: right;\n",
       "    }\n",
       "</style>\n",
       "<table border=\"1\" class=\"dataframe\">\n",
       "  <thead>\n",
       "    <tr style=\"text-align: right;\">\n",
       "      <th></th>\n",
       "      <th>meal_id</th>\n",
       "      <th>category</th>\n",
       "      <th>cuisine</th>\n",
       "    </tr>\n",
       "  </thead>\n",
       "  <tbody>\n",
       "    <tr>\n",
       "      <th>0</th>\n",
       "      <td>1885</td>\n",
       "      <td>Beverages</td>\n",
       "      <td>Thai</td>\n",
       "    </tr>\n",
       "  </tbody>\n",
       "</table>\n",
       "</div>"
      ],
      "text/plain": [
       "   meal_id   category cuisine\n",
       "0     1885  Beverages    Thai"
      ]
     },
     "execution_count": 7,
     "metadata": {},
     "output_type": "execute_result"
    }
   ],
   "source": [
    "df2.head(1)"
   ]
  },
  {
   "cell_type": "code",
   "execution_count": 8,
   "id": "a528aabe",
   "metadata": {},
   "outputs": [
    {
     "data": {
      "text/html": [
       "<div>\n",
       "<style scoped>\n",
       "    .dataframe tbody tr th:only-of-type {\n",
       "        vertical-align: middle;\n",
       "    }\n",
       "\n",
       "    .dataframe tbody tr th {\n",
       "        vertical-align: top;\n",
       "    }\n",
       "\n",
       "    .dataframe thead th {\n",
       "        text-align: right;\n",
       "    }\n",
       "</style>\n",
       "<table border=\"1\" class=\"dataframe\">\n",
       "  <thead>\n",
       "    <tr style=\"text-align: right;\">\n",
       "      <th></th>\n",
       "      <th>center_id</th>\n",
       "      <th>city_code</th>\n",
       "      <th>region_code</th>\n",
       "      <th>center_type</th>\n",
       "      <th>op_area</th>\n",
       "    </tr>\n",
       "  </thead>\n",
       "  <tbody>\n",
       "    <tr>\n",
       "      <th>0</th>\n",
       "      <td>11</td>\n",
       "      <td>679</td>\n",
       "      <td>56</td>\n",
       "      <td>TYPE_A</td>\n",
       "      <td>3.7</td>\n",
       "    </tr>\n",
       "  </tbody>\n",
       "</table>\n",
       "</div>"
      ],
      "text/plain": [
       "   center_id  city_code  region_code center_type  op_area\n",
       "0         11        679           56      TYPE_A      3.7"
      ]
     },
     "execution_count": 8,
     "metadata": {},
     "output_type": "execute_result"
    }
   ],
   "source": [
    "df3.head(1)"
   ]
  },
  {
   "cell_type": "code",
   "execution_count": 9,
   "id": "a708d512",
   "metadata": {},
   "outputs": [],
   "source": [
    "#analysis"
   ]
  },
  {
   "cell_type": "code",
   "execution_count": 10,
   "id": "083f33a4",
   "metadata": {},
   "outputs": [
    {
     "data": {
      "text/html": [
       "<div>\n",
       "<style scoped>\n",
       "    .dataframe tbody tr th:only-of-type {\n",
       "        vertical-align: middle;\n",
       "    }\n",
       "\n",
       "    .dataframe tbody tr th {\n",
       "        vertical-align: top;\n",
       "    }\n",
       "\n",
       "    .dataframe thead th {\n",
       "        text-align: right;\n",
       "    }\n",
       "</style>\n",
       "<table border=\"1\" class=\"dataframe\">\n",
       "  <thead>\n",
       "    <tr style=\"text-align: right;\">\n",
       "      <th></th>\n",
       "      <th>id</th>\n",
       "      <th>week</th>\n",
       "      <th>center_id</th>\n",
       "      <th>meal_id</th>\n",
       "      <th>checkout_price</th>\n",
       "      <th>base_price</th>\n",
       "      <th>emailer_for_promotion</th>\n",
       "      <th>homepage_featured</th>\n",
       "      <th>num_orders</th>\n",
       "    </tr>\n",
       "  </thead>\n",
       "  <tbody>\n",
       "    <tr>\n",
       "      <th>0</th>\n",
       "      <td>1379560</td>\n",
       "      <td>1</td>\n",
       "      <td>55</td>\n",
       "      <td>1885</td>\n",
       "      <td>136.83</td>\n",
       "      <td>152.29</td>\n",
       "      <td>0</td>\n",
       "      <td>0</td>\n",
       "      <td>177</td>\n",
       "    </tr>\n",
       "    <tr>\n",
       "      <th>1</th>\n",
       "      <td>1466964</td>\n",
       "      <td>1</td>\n",
       "      <td>55</td>\n",
       "      <td>1993</td>\n",
       "      <td>136.83</td>\n",
       "      <td>135.83</td>\n",
       "      <td>0</td>\n",
       "      <td>0</td>\n",
       "      <td>270</td>\n",
       "    </tr>\n",
       "    <tr>\n",
       "      <th>2</th>\n",
       "      <td>1346989</td>\n",
       "      <td>1</td>\n",
       "      <td>55</td>\n",
       "      <td>2539</td>\n",
       "      <td>134.86</td>\n",
       "      <td>135.86</td>\n",
       "      <td>0</td>\n",
       "      <td>0</td>\n",
       "      <td>189</td>\n",
       "    </tr>\n",
       "    <tr>\n",
       "      <th>3</th>\n",
       "      <td>1338232</td>\n",
       "      <td>1</td>\n",
       "      <td>55</td>\n",
       "      <td>2139</td>\n",
       "      <td>339.50</td>\n",
       "      <td>437.53</td>\n",
       "      <td>0</td>\n",
       "      <td>0</td>\n",
       "      <td>54</td>\n",
       "    </tr>\n",
       "    <tr>\n",
       "      <th>4</th>\n",
       "      <td>1448490</td>\n",
       "      <td>1</td>\n",
       "      <td>55</td>\n",
       "      <td>2631</td>\n",
       "      <td>243.50</td>\n",
       "      <td>242.50</td>\n",
       "      <td>0</td>\n",
       "      <td>0</td>\n",
       "      <td>40</td>\n",
       "    </tr>\n",
       "    <tr>\n",
       "      <th>...</th>\n",
       "      <td>...</td>\n",
       "      <td>...</td>\n",
       "      <td>...</td>\n",
       "      <td>...</td>\n",
       "      <td>...</td>\n",
       "      <td>...</td>\n",
       "      <td>...</td>\n",
       "      <td>...</td>\n",
       "      <td>...</td>\n",
       "    </tr>\n",
       "    <tr>\n",
       "      <th>456543</th>\n",
       "      <td>1271326</td>\n",
       "      <td>145</td>\n",
       "      <td>61</td>\n",
       "      <td>1543</td>\n",
       "      <td>484.09</td>\n",
       "      <td>484.09</td>\n",
       "      <td>0</td>\n",
       "      <td>0</td>\n",
       "      <td>68</td>\n",
       "    </tr>\n",
       "    <tr>\n",
       "      <th>456544</th>\n",
       "      <td>1062036</td>\n",
       "      <td>145</td>\n",
       "      <td>61</td>\n",
       "      <td>2304</td>\n",
       "      <td>482.09</td>\n",
       "      <td>482.09</td>\n",
       "      <td>0</td>\n",
       "      <td>0</td>\n",
       "      <td>42</td>\n",
       "    </tr>\n",
       "    <tr>\n",
       "      <th>456545</th>\n",
       "      <td>1110849</td>\n",
       "      <td>145</td>\n",
       "      <td>61</td>\n",
       "      <td>2664</td>\n",
       "      <td>237.68</td>\n",
       "      <td>321.07</td>\n",
       "      <td>0</td>\n",
       "      <td>0</td>\n",
       "      <td>501</td>\n",
       "    </tr>\n",
       "    <tr>\n",
       "      <th>456546</th>\n",
       "      <td>1147725</td>\n",
       "      <td>145</td>\n",
       "      <td>61</td>\n",
       "      <td>2569</td>\n",
       "      <td>243.50</td>\n",
       "      <td>313.34</td>\n",
       "      <td>0</td>\n",
       "      <td>0</td>\n",
       "      <td>729</td>\n",
       "    </tr>\n",
       "    <tr>\n",
       "      <th>456547</th>\n",
       "      <td>1361984</td>\n",
       "      <td>145</td>\n",
       "      <td>61</td>\n",
       "      <td>2490</td>\n",
       "      <td>292.03</td>\n",
       "      <td>290.03</td>\n",
       "      <td>0</td>\n",
       "      <td>0</td>\n",
       "      <td>162</td>\n",
       "    </tr>\n",
       "  </tbody>\n",
       "</table>\n",
       "<p>456548 rows × 9 columns</p>\n",
       "</div>"
      ],
      "text/plain": [
       "             id  week  center_id  meal_id  checkout_price  base_price  \\\n",
       "0       1379560     1         55     1885          136.83      152.29   \n",
       "1       1466964     1         55     1993          136.83      135.83   \n",
       "2       1346989     1         55     2539          134.86      135.86   \n",
       "3       1338232     1         55     2139          339.50      437.53   \n",
       "4       1448490     1         55     2631          243.50      242.50   \n",
       "...         ...   ...        ...      ...             ...         ...   \n",
       "456543  1271326   145         61     1543          484.09      484.09   \n",
       "456544  1062036   145         61     2304          482.09      482.09   \n",
       "456545  1110849   145         61     2664          237.68      321.07   \n",
       "456546  1147725   145         61     2569          243.50      313.34   \n",
       "456547  1361984   145         61     2490          292.03      290.03   \n",
       "\n",
       "        emailer_for_promotion  homepage_featured  num_orders  \n",
       "0                           0                  0         177  \n",
       "1                           0                  0         270  \n",
       "2                           0                  0         189  \n",
       "3                           0                  0          54  \n",
       "4                           0                  0          40  \n",
       "...                       ...                ...         ...  \n",
       "456543                      0                  0          68  \n",
       "456544                      0                  0          42  \n",
       "456545                      0                  0         501  \n",
       "456546                      0                  0         729  \n",
       "456547                      0                  0         162  \n",
       "\n",
       "[456548 rows x 9 columns]"
      ]
     },
     "execution_count": 10,
     "metadata": {},
     "output_type": "execute_result"
    }
   ],
   "source": [
    "df1"
   ]
  },
  {
   "cell_type": "code",
   "execution_count": 11,
   "id": "dddd2341",
   "metadata": {},
   "outputs": [
    {
     "name": "stdout",
     "output_type": "stream",
     "text": [
      "<class 'pandas.core.frame.DataFrame'>\n",
      "RangeIndex: 456548 entries, 0 to 456547\n",
      "Data columns (total 9 columns):\n",
      " #   Column                 Non-Null Count   Dtype  \n",
      "---  ------                 --------------   -----  \n",
      " 0   id                     456548 non-null  int64  \n",
      " 1   week                   456548 non-null  int64  \n",
      " 2   center_id              456548 non-null  int64  \n",
      " 3   meal_id                456548 non-null  int64  \n",
      " 4   checkout_price         456548 non-null  float64\n",
      " 5   base_price             456548 non-null  float64\n",
      " 6   emailer_for_promotion  456548 non-null  int64  \n",
      " 7   homepage_featured      456548 non-null  int64  \n",
      " 8   num_orders             456548 non-null  int64  \n",
      "dtypes: float64(2), int64(7)\n",
      "memory usage: 31.3 MB\n"
     ]
    }
   ],
   "source": [
    "df1.info()"
   ]
  },
  {
   "cell_type": "code",
   "execution_count": 12,
   "id": "47214246",
   "metadata": {},
   "outputs": [
    {
     "data": {
      "text/plain": [
       "id                       0\n",
       "week                     0\n",
       "center_id                0\n",
       "meal_id                  0\n",
       "checkout_price           0\n",
       "base_price               0\n",
       "emailer_for_promotion    0\n",
       "homepage_featured        0\n",
       "num_orders               0\n",
       "dtype: int64"
      ]
     },
     "execution_count": 12,
     "metadata": {},
     "output_type": "execute_result"
    }
   ],
   "source": [
    "df1.isnull().sum()"
   ]
  },
  {
   "cell_type": "code",
   "execution_count": 13,
   "id": "0a449904",
   "metadata": {},
   "outputs": [
    {
     "data": {
      "text/plain": [
       "<AxesSubplot:>"
      ]
     },
     "execution_count": 13,
     "metadata": {},
     "output_type": "execute_result"
    },
    {
     "data": {
      "image/png": "[encoded data removed]",
      "text/plain": [
       "<Figure size 720x648 with 2 Axes>"
      ]
     },
     "metadata": {
      "needs_background": "light"
     },
     "output_type": "display_data"
    }
   ],
   "source": [
    "plt.figure(figsize=(10,9))\n",
    "sns.heatmap(df1.corr())"
   ]
  },
  {
   "cell_type": "code",
   "execution_count": 14,
   "id": "8bc21245",
   "metadata": {},
   "outputs": [],
   "source": [
    "corr = df1.corr()"
   ]
  },
  {
   "cell_type": "code",
   "execution_count": 15,
   "id": "21dfec34",
   "metadata": {},
   "outputs": [
    {
     "data": {
      "text/plain": [
       "id                       0.000702\n",
       "week                    -0.017210\n",
       "center_id               -0.053035\n",
       "meal_id                  0.010597\n",
       "checkout_price          -0.282108\n",
       "base_price              -0.222306\n",
       "emailer_for_promotion    0.277147\n",
       "homepage_featured        0.294490\n",
       "num_orders               1.000000\n",
       "Name: num_orders, dtype: float64"
      ]
     },
     "execution_count": 15,
     "metadata": {},
     "output_type": "execute_result"
    }
   ],
   "source": [
    "corr['num_orders']"
   ]
  },
  {
   "cell_type": "code",
   "execution_count": 16,
   "id": "bc1cba56",
   "metadata": {},
   "outputs": [],
   "source": [
    "#no preprossecing train model"
   ]
  },
  {
   "cell_type": "code",
   "execution_count": 17,
   "id": "c28115ea",
   "metadata": {},
   "outputs": [],
   "source": [
    "from sklearn.ensemble import RandomForestRegressor,AdaBoostRegressor,GradientBoostingRegressor\n",
    "from sklearn.tree import DecisionTreeRegressor"
   ]
  },
  {
   "cell_type": "code",
   "execution_count": 18,
   "id": "ccab7cd0",
   "metadata": {},
   "outputs": [],
   "source": [
    "from sklearn.model_selection import train_test_split"
   ]
  },
  {
   "cell_type": "code",
   "execution_count": 19,
   "id": "fbb09a86",
   "metadata": {},
   "outputs": [],
   "source": [
    "x = df1.iloc[:,:-1]"
   ]
  },
  {
   "cell_type": "code",
   "execution_count": 20,
   "id": "2a1b0d65",
   "metadata": {},
   "outputs": [],
   "source": [
    "y = df1.iloc[:,-1]"
   ]
  },
  {
   "cell_type": "code",
   "execution_count": 21,
   "id": "a8b01ad7",
   "metadata": {},
   "outputs": [],
   "source": [
    "xtrain,xtest,ytrain,ytest = train_test_split(x,y,test_size = 0.20)"
   ]
  },
  {
   "cell_type": "code",
   "execution_count": 22,
   "id": "a93856f9",
   "metadata": {},
   "outputs": [],
   "source": [
    "random = RandomForestRegressor()\n",
    "ada = AdaBoostRegressor()\n",
    "grad = GradientBoostingRegressor()\n",
    "tree = DecisionTreeRegressor()"
   ]
  },
  {
   "cell_type": "code",
   "execution_count": 26,
   "id": "f8ef807a",
   "metadata": {},
   "outputs": [
    {
     "data": {
      "text/plain": [
       "46654      40\n",
       "127774     26\n",
       "99295     311\n",
       "168778     42\n",
       "249547     68\n",
       "         ... \n",
       "455688     96\n",
       "19589     662\n",
       "396603    446\n",
       "34457     757\n",
       "356830     27\n",
       "Name: num_orders, Length: 91310, dtype: int64"
      ]
     },
     "execution_count": 26,
     "metadata": {},
     "output_type": "execute_result"
    }
   ],
   "source": [
    "ytest"
   ]
  },
  {
   "cell_type": "code",
   "execution_count": 27,
   "id": "8670d641",
   "metadata": {},
   "outputs": [
    {
     "data": {
      "text/plain": [
       "RandomForestRegressor()"
      ]
     },
     "execution_count": 27,
     "metadata": {},
     "output_type": "execute_result"
    }
   ],
   "source": [
    "random.fit(xtrain,ytrain)"
   ]
  },
  {
   "cell_type": "code",
   "execution_count": null,
   "id": "63b414e4",
   "metadata": {},
   "outputs": [],
   "source": [
    "ada.fit(xtrain,ytrain)"
   ]
  },
  {
   "cell_type": "code",
   "execution_count": null,
   "id": "ae9c757d",
   "metadata": {},
   "outputs": [],
   "source": [
    "grad.fit(xtrain,ytrain)"
   ]
  },
  {
   "cell_type": "code",
   "execution_count": null,
   "id": "9ef2950b",
   "metadata": {},
   "outputs": [],
   "source": [
    "tree.fit(xtrain,ytrain)"
   ]
  },
  {
   "cell_type": "code",
   "execution_count": 28,
   "id": "9880c7f4",
   "metadata": {},
   "outputs": [
    {
     "data": {
      "text/plain": [
       "0.9697806367686097"
      ]
     },
     "execution_count": 28,
     "metadata": {},
     "output_type": "execute_result"
    }
   ],
   "source": [
    "random.score(xtrain,ytrain)"
   ]
  },
  {
   "cell_type": "code",
   "execution_count": 29,
   "id": "cc6f0c55",
   "metadata": {},
   "outputs": [
    {
     "data": {
      "text/plain": [
       "0.7791415055322584"
      ]
     },
     "execution_count": 29,
     "metadata": {},
     "output_type": "execute_result"
    }
   ],
   "source": [
    "random.score(xtest,ytest)"
   ]
  },
  {
   "cell_type": "code",
   "execution_count": 38,
   "id": "75a4ef73",
   "metadata": {},
   "outputs": [],
   "source": [
    "from sklearn.metrics import mean_squared_error"
   ]
  },
  {
   "cell_type": "code",
   "execution_count": 33,
   "id": "cf0d50a0",
   "metadata": {},
   "outputs": [],
   "source": [
    "pred = random.predict(xtest)"
   ]
  },
  {
   "cell_type": "code",
   "execution_count": 39,
   "id": "bcdd83e9",
   "metadata": {},
   "outputs": [
    {
     "data": {
      "text/plain": [
       "34568.69502657431"
      ]
     },
     "execution_count": 39,
     "metadata": {},
     "output_type": "execute_result"
    }
   ],
   "source": [
    "mean_squared_error(ytest,pred)"
   ]
  },
  {
   "cell_type": "code",
   "execution_count": 40,
   "id": "88c28e39",
   "metadata": {},
   "outputs": [],
   "source": [
    "#preprocessing"
   ]
  },
  {
   "cell_type": "code",
   "execution_count": 43,
   "id": "9e3e9550",
   "metadata": {},
   "outputs": [
    {
     "name": "stderr",
     "output_type": "stream",
     "text": [
      "C:\\Users\\hp\\anaconda3\\lib\\site-packages\\seaborn\\_decorators.py:36: FutureWarning: Pass the following variable as a keyword arg: x. From version 0.12, the only valid positional argument will be `data`, and passing other arguments without an explicit keyword will result in an error or misinterpretation.\n",
      "  warnings.warn(\n"
     ]
    },
    {
     "data": {
      "text/plain": [
       "<AxesSubplot:xlabel='checkout_price'>"
      ]
     },
     "execution_count": 43,
     "metadata": {},
     "output_type": "execute_result"
    },
    {
     "data": {
      "image/png": "[encoded data removed]",
      "text/plain": [
       "<Figure size 432x288 with 1 Axes>"
      ]
     },
     "metadata": {
      "needs_background": "light"
     },
     "output_type": "display_data"
    }
   ],
   "source": [
    "sns.boxplot(df1['checkout_price'])"
   ]
  },
  {
   "cell_type": "code",
   "execution_count": 44,
   "id": "4f8dcf77",
   "metadata": {},
   "outputs": [
    {
     "name": "stderr",
     "output_type": "stream",
     "text": [
      "C:\\Users\\hp\\anaconda3\\lib\\site-packages\\seaborn\\distributions.py:2557: FutureWarning: `distplot` is a deprecated function and will be removed in a future version. Please adapt your code to use either `displot` (a figure-level function with similar flexibility) or `histplot` (an axes-level function for histograms).\n",
      "  warnings.warn(msg, FutureWarning)\n"
     ]
    },
    {
     "data": {
      "text/plain": [
       "<AxesSubplot:xlabel='checkout_price', ylabel='Density'>"
      ]
     },
     "execution_count": 44,
     "metadata": {},
     "output_type": "execute_result"
    },
    {
     "data": {
      "image/png": "[encoded data removed]",
      "text/plain": [
       "<Figure size 432x288 with 1 Axes>"
      ]
     },
     "metadata": {
      "needs_background": "light"
     },
     "output_type": "display_data"
    }
   ],
   "source": [
    "sns.distplot(df1['checkout_price'])"
   ]
  },
  {
   "cell_type": "code",
   "execution_count": 46,
   "id": "2d84c6ec",
   "metadata": {},
   "outputs": [],
   "source": [
    "from scipy.stats import skew"
   ]
  },
  {
   "cell_type": "code",
   "execution_count": 260,
   "id": "b123df2d",
   "metadata": {},
   "outputs": [
    {
     "data": {
      "text/plain": [
       "0.6723276957570572"
      ]
     },
     "execution_count": 260,
     "metadata": {},
     "output_type": "execute_result"
    }
   ],
   "source": [
    "skew(df1['checkout_price'])"
   ]
  },
  {
   "cell_type": "code",
   "execution_count": 261,
   "id": "8de11966",
   "metadata": {},
   "outputs": [],
   "source": [
    "df1['checkout_price'] = np.log(df1['checkout_price'])"
   ]
  },
  {
   "cell_type": "code",
   "execution_count": 262,
   "id": "5dcf1f15",
   "metadata": {},
   "outputs": [
    {
     "data": {
      "text/plain": [
       "-0.2837295221690906"
      ]
     },
     "execution_count": 262,
     "metadata": {},
     "output_type": "execute_result"
    }
   ],
   "source": [
    "skew(df1['checkout_price'])"
   ]
  },
  {
   "cell_type": "code",
   "execution_count": 263,
   "id": "9b7786c5",
   "metadata": {},
   "outputs": [
    {
     "name": "stderr",
     "output_type": "stream",
     "text": [
      "C:\\Users\\hp\\anaconda3\\lib\\site-packages\\seaborn\\distributions.py:2557: FutureWarning: `distplot` is a deprecated function and will be removed in a future version. Please adapt your code to use either `displot` (a figure-level function with similar flexibility) or `histplot` (an axes-level function for histograms).\n",
      "  warnings.warn(msg, FutureWarning)\n"
     ]
    },
    {
     "data": {
      "text/plain": [
       "<AxesSubplot:xlabel='checkout_price', ylabel='Density'>"
      ]
     },
     "execution_count": 263,
     "metadata": {},
     "output_type": "execute_result"
    },
    {
     "data": {
      "image/png": "[encoded data removed]",
      "text/plain": [
       "<Figure size 432x288 with 1 Axes>"
      ]
     },
     "metadata": {
      "needs_background": "light"
     },
     "output_type": "display_data"
    }
   ],
   "source": [
    "sns.distplot(df1['checkout_price'])"
   ]
  },
  {
   "cell_type": "code",
   "execution_count": 264,
   "id": "120947ca",
   "metadata": {},
   "outputs": [
    {
     "name": "stderr",
     "output_type": "stream",
     "text": [
      "C:\\Users\\hp\\anaconda3\\lib\\site-packages\\seaborn\\_decorators.py:36: FutureWarning: Pass the following variable as a keyword arg: x. From version 0.12, the only valid positional argument will be `data`, and passing other arguments without an explicit keyword will result in an error or misinterpretation.\n",
      "  warnings.warn(\n"
     ]
    },
    {
     "data": {
      "text/plain": [
       "<AxesSubplot:xlabel='checkout_price'>"
      ]
     },
     "execution_count": 264,
     "metadata": {},
     "output_type": "execute_result"
    },
    {
     "data": {
      "image/png": "[encoded data removed]",
      "text/plain": [
       "<Figure size 432x288 with 1 Axes>"
      ]
     },
     "metadata": {
      "needs_background": "light"
     },
     "output_type": "display_data"
    }
   ],
   "source": [
    "sns.boxplot(df1['checkout_price'])"
   ]
  },
  {
   "cell_type": "code",
   "execution_count": 265,
   "id": "a6f4746b",
   "metadata": {},
   "outputs": [],
   "source": [
    "q1 = df1['checkout_price'].quantile(0.25)"
   ]
  },
  {
   "cell_type": "code",
   "execution_count": 266,
   "id": "54f4554b",
   "metadata": {},
   "outputs": [],
   "source": [
    "q3 = df1['checkout_price'].quantile(0.75)"
   ]
  },
  {
   "cell_type": "code",
   "execution_count": 267,
   "id": "a0ede811",
   "metadata": {},
   "outputs": [],
   "source": [
    "iqr = q3-q1"
   ]
  },
  {
   "cell_type": "code",
   "execution_count": 268,
   "id": "a2f39cf8",
   "metadata": {},
   "outputs": [
    {
     "data": {
      "text/plain": [
       "4.435872593894008"
      ]
     },
     "execution_count": 268,
     "metadata": {},
     "output_type": "execute_result"
    }
   ],
   "source": [
    "l = q1 - 1.5 * iqr\n",
    "l"
   ]
  },
  {
   "cell_type": "code",
   "execution_count": 269,
   "id": "c76ce6cd",
   "metadata": {},
   "outputs": [
    {
     "data": {
      "text/plain": [
       "7.096222047784934"
      ]
     },
     "execution_count": 269,
     "metadata": {},
     "output_type": "execute_result"
    }
   ],
   "source": [
    "h = q3 + 1.5 * iqr\n",
    "h"
   ]
  },
  {
   "cell_type": "code",
   "execution_count": null,
   "id": "6f98466d",
   "metadata": {},
   "outputs": [],
   "source": []
  },
  {
   "cell_type": "code",
   "execution_count": null,
   "id": "a5e77e23",
   "metadata": {},
   "outputs": [],
   "source": []
  },
  {
   "cell_type": "code",
   "execution_count": 270,
   "id": "5ee77520",
   "metadata": {},
   "outputs": [],
   "source": [
    "\n",
    "df1 = df1[(df1['checkout_price'] > 4.43)]"
   ]
  },
  {
   "cell_type": "code",
   "execution_count": 271,
   "id": "3838784f",
   "metadata": {},
   "outputs": [
    {
     "name": "stderr",
     "output_type": "stream",
     "text": [
      "C:\\Users\\hp\\anaconda3\\lib\\site-packages\\seaborn\\_decorators.py:36: FutureWarning: Pass the following variable as a keyword arg: x. From version 0.12, the only valid positional argument will be `data`, and passing other arguments without an explicit keyword will result in an error or misinterpretation.\n",
      "  warnings.warn(\n"
     ]
    },
    {
     "data": {
      "text/plain": [
       "<AxesSubplot:xlabel='checkout_price'>"
      ]
     },
     "execution_count": 271,
     "metadata": {},
     "output_type": "execute_result"
    },
    {
     "data": {
      "image/png": "[encoded data removed]",
      "text/plain": [
       "<Figure size 432x288 with 1 Axes>"
      ]
     },
     "metadata": {
      "needs_background": "light"
     },
     "output_type": "display_data"
    }
   ],
   "source": [
    "sns.boxplot(df1['checkout_price'])"
   ]
  },
  {
   "cell_type": "code",
   "execution_count": 272,
   "id": "50790116",
   "metadata": {
    "scrolled": true
   },
   "outputs": [
    {
     "data": {
      "text/plain": [
       "-0.27915567777594336"
      ]
     },
     "execution_count": 272,
     "metadata": {},
     "output_type": "execute_result"
    }
   ],
   "source": [
    "skew(df1['checkout_price'])"
   ]
  },
  {
   "cell_type": "code",
   "execution_count": 273,
   "id": "2957971b",
   "metadata": {},
   "outputs": [],
   "source": [
    "#base_price"
   ]
  },
  {
   "cell_type": "code",
   "execution_count": 274,
   "id": "ce99734a",
   "metadata": {},
   "outputs": [
    {
     "data": {
      "text/plain": [
       "0         152.29\n",
       "1         135.83\n",
       "2         135.86\n",
       "3         437.53\n",
       "4         242.50\n",
       "           ...  \n",
       "456543    484.09\n",
       "456544    482.09\n",
       "456545    321.07\n",
       "456546    313.34\n",
       "456547    290.03\n",
       "Name: base_price, Length: 456444, dtype: float64"
      ]
     },
     "execution_count": 274,
     "metadata": {},
     "output_type": "execute_result"
    }
   ],
   "source": [
    "df1['base_price']"
   ]
  },
  {
   "cell_type": "code",
   "execution_count": 275,
   "id": "00703fb0",
   "metadata": {},
   "outputs": [
    {
     "data": {
      "text/plain": [
       "0.6375238389365168"
      ]
     },
     "execution_count": 275,
     "metadata": {},
     "output_type": "execute_result"
    }
   ],
   "source": [
    "skew(df1['base_price'])"
   ]
  },
  {
   "cell_type": "code",
   "execution_count": 276,
   "id": "041ba670",
   "metadata": {},
   "outputs": [
    {
     "name": "stderr",
     "output_type": "stream",
     "text": [
      "C:\\Users\\hp\\anaconda3\\lib\\site-packages\\seaborn\\_decorators.py:36: FutureWarning: Pass the following variable as a keyword arg: x. From version 0.12, the only valid positional argument will be `data`, and passing other arguments without an explicit keyword will result in an error or misinterpretation.\n",
      "  warnings.warn(\n"
     ]
    },
    {
     "data": {
      "text/plain": [
       "<AxesSubplot:xlabel='base_price'>"
      ]
     },
     "execution_count": 276,
     "metadata": {},
     "output_type": "execute_result"
    },
    {
     "data": {
      "image/png": "[encoded data removed]",
      "text/plain": [
       "<Figure size 432x288 with 1 Axes>"
      ]
     },
     "metadata": {
      "needs_background": "light"
     },
     "output_type": "display_data"
    }
   ],
   "source": [
    "sns.boxplot(df1['base_price'])"
   ]
  },
  {
   "cell_type": "code",
   "execution_count": 153,
   "id": "d315042a",
   "metadata": {},
   "outputs": [
    {
     "name": "stderr",
     "output_type": "stream",
     "text": [
      "C:\\Users\\hp\\anaconda3\\lib\\site-packages\\seaborn\\distributions.py:2557: FutureWarning: `distplot` is a deprecated function and will be removed in a future version. Please adapt your code to use either `displot` (a figure-level function with similar flexibility) or `histplot` (an axes-level function for histograms).\n",
      "  warnings.warn(msg, FutureWarning)\n"
     ]
    },
    {
     "data": {
      "text/plain": [
       "<AxesSubplot:xlabel='base_price', ylabel='Density'>"
      ]
     },
     "execution_count": 153,
     "metadata": {},
     "output_type": "execute_result"
    },
    {
     "data": {
      "image/png": "[encoded data removed]",
      "text/plain": [
       "<Figure size 432x288 with 1 Axes>"
      ]
     },
     "metadata": {
      "needs_background": "light"
     },
     "output_type": "display_data"
    }
   ],
   "source": [
    "sns.distplot(df1['base_price'])"
   ]
  },
  {
   "cell_type": "code",
   "execution_count": 277,
   "id": "713fd4e2",
   "metadata": {},
   "outputs": [],
   "source": [
    "df1['base_price'] = np.log(df1['base_price'])"
   ]
  },
  {
   "cell_type": "code",
   "execution_count": 278,
   "id": "2487dd05",
   "metadata": {},
   "outputs": [
    {
     "data": {
      "text/plain": [
       "-0.22102225603166997"
      ]
     },
     "execution_count": 278,
     "metadata": {},
     "output_type": "execute_result"
    }
   ],
   "source": [
    "skew(df1['base_price'])"
   ]
  },
  {
   "cell_type": "code",
   "execution_count": 232,
   "id": "311997a1",
   "metadata": {},
   "outputs": [
    {
     "name": "stderr",
     "output_type": "stream",
     "text": [
      "C:\\Users\\hp\\anaconda3\\lib\\site-packages\\seaborn\\distributions.py:2557: FutureWarning: `distplot` is a deprecated function and will be removed in a future version. Please adapt your code to use either `displot` (a figure-level function with similar flexibility) or `histplot` (an axes-level function for histograms).\n",
      "  warnings.warn(msg, FutureWarning)\n"
     ]
    },
    {
     "data": {
      "text/plain": [
       "<AxesSubplot:xlabel='base_price', ylabel='Density'>"
      ]
     },
     "execution_count": 232,
     "metadata": {},
     "output_type": "execute_result"
    },
    {
     "data": {
      "image/png": "[encoded data removed]",
      "text/plain": [
       "<Figure size 432x288 with 1 Axes>"
      ]
     },
     "metadata": {
      "needs_background": "light"
     },
     "output_type": "display_data"
    }
   ],
   "source": [
    "sns.distplot(df1['base_price'])"
   ]
  },
  {
   "cell_type": "code",
   "execution_count": 233,
   "id": "13dd7002",
   "metadata": {},
   "outputs": [
    {
     "name": "stderr",
     "output_type": "stream",
     "text": [
      "C:\\Users\\hp\\anaconda3\\lib\\site-packages\\seaborn\\_decorators.py:36: FutureWarning: Pass the following variable as a keyword arg: x. From version 0.12, the only valid positional argument will be `data`, and passing other arguments without an explicit keyword will result in an error or misinterpretation.\n",
      "  warnings.warn(\n"
     ]
    },
    {
     "data": {
      "text/plain": [
       "<AxesSubplot:xlabel='base_price'>"
      ]
     },
     "execution_count": 233,
     "metadata": {},
     "output_type": "execute_result"
    },
    {
     "data": {
      "image/png": "[encoded data removed]",
      "text/plain": [
       "<Figure size 432x288 with 1 Axes>"
      ]
     },
     "metadata": {
      "needs_background": "light"
     },
     "output_type": "display_data"
    }
   ],
   "source": [
    "sns.boxplot(df1['base_price'])"
   ]
  },
  {
   "cell_type": "code",
   "execution_count": 279,
   "id": "0cc47ffd",
   "metadata": {},
   "outputs": [],
   "source": [
    "q11 = df1['base_price'].quantile(0.25)"
   ]
  },
  {
   "cell_type": "code",
   "execution_count": 280,
   "id": "7473c0ba",
   "metadata": {},
   "outputs": [],
   "source": [
    "q33 = df1['base_price'].quantile(0.75)"
   ]
  },
  {
   "cell_type": "code",
   "execution_count": 281,
   "id": "72562207",
   "metadata": {},
   "outputs": [],
   "source": [
    "iqr1 = q33 - q11"
   ]
  },
  {
   "cell_type": "code",
   "execution_count": 282,
   "id": "46365d75",
   "metadata": {},
   "outputs": [],
   "source": [
    "low = q11 - 1.5 * iqr1"
   ]
  },
  {
   "cell_type": "code",
   "execution_count": 283,
   "id": "5085ca9c",
   "metadata": {},
   "outputs": [
    {
     "data": {
      "text/plain": [
       "4.541670184991059"
      ]
     },
     "execution_count": 283,
     "metadata": {},
     "output_type": "execute_result"
    }
   ],
   "source": [
    "low"
   ]
  },
  {
   "cell_type": "code",
   "execution_count": 284,
   "id": "5d9d11a6",
   "metadata": {},
   "outputs": [],
   "source": [
    "high = q33 +1.5 * iqr1"
   ]
  },
  {
   "cell_type": "code",
   "execution_count": 285,
   "id": "9b15b281",
   "metadata": {},
   "outputs": [
    {
     "data": {
      "text/plain": [
       "7.084194871741953"
      ]
     },
     "execution_count": 285,
     "metadata": {},
     "output_type": "execute_result"
    }
   ],
   "source": [
    "high"
   ]
  },
  {
   "cell_type": "code",
   "execution_count": 286,
   "id": "bde760c5",
   "metadata": {},
   "outputs": [],
   "source": [
    "df1 = df1[(df1['base_price'] > 4.54)]"
   ]
  },
  {
   "cell_type": "code",
   "execution_count": 287,
   "id": "5a10e806",
   "metadata": {},
   "outputs": [
    {
     "data": {
      "text/plain": [
       "-0.21499041306703406"
      ]
     },
     "execution_count": 287,
     "metadata": {},
     "output_type": "execute_result"
    }
   ],
   "source": [
    "skew(df1['base_price'])"
   ]
  },
  {
   "cell_type": "code",
   "execution_count": 288,
   "id": "d475d268",
   "metadata": {},
   "outputs": [
    {
     "name": "stderr",
     "output_type": "stream",
     "text": [
      "C:\\Users\\hp\\anaconda3\\lib\\site-packages\\seaborn\\_decorators.py:36: FutureWarning: Pass the following variable as a keyword arg: x. From version 0.12, the only valid positional argument will be `data`, and passing other arguments without an explicit keyword will result in an error or misinterpretation.\n",
      "  warnings.warn(\n"
     ]
    },
    {
     "data": {
      "text/plain": [
       "<AxesSubplot:xlabel='base_price'>"
      ]
     },
     "execution_count": 288,
     "metadata": {},
     "output_type": "execute_result"
    },
    {
     "data": {
      "image/png": "[encoded data removed]",
      "text/plain": [
       "<Figure size 432x288 with 1 Axes>"
      ]
     },
     "metadata": {
      "needs_background": "light"
     },
     "output_type": "display_data"
    }
   ],
   "source": [
    "sns.boxplot(df1['base_price'])"
   ]
  },
  {
   "cell_type": "code",
   "execution_count": 289,
   "id": "d29b6437",
   "metadata": {},
   "outputs": [
    {
     "data": {
      "text/plain": [
       "(456114, 9)"
      ]
     },
     "execution_count": 289,
     "metadata": {},
     "output_type": "execute_result"
    }
   ],
   "source": [
    "df1.shape"
   ]
  },
  {
   "cell_type": "code",
   "execution_count": 201,
   "id": "96f99106",
   "metadata": {},
   "outputs": [],
   "source": [
    "#num_orders"
   ]
  },
  {
   "cell_type": "code",
   "execution_count": 290,
   "id": "a2cc3974",
   "metadata": {},
   "outputs": [
    {
     "data": {
      "text/plain": [
       "6.907722724379488"
      ]
     },
     "execution_count": 290,
     "metadata": {},
     "output_type": "execute_result"
    }
   ],
   "source": [
    "skew(df1['num_orders'])"
   ]
  },
  {
   "cell_type": "code",
   "execution_count": 291,
   "id": "f29b4022",
   "metadata": {},
   "outputs": [],
   "source": [
    " df1['num_orders'] = np.log(df1['num_orders'])"
   ]
  },
  {
   "cell_type": "code",
   "execution_count": 292,
   "id": "ad455570",
   "metadata": {},
   "outputs": [
    {
     "data": {
      "text/plain": [
       "-0.04900411686260005"
      ]
     },
     "execution_count": 292,
     "metadata": {},
     "output_type": "execute_result"
    }
   ],
   "source": [
    "skew(df1['num_orders'])"
   ]
  },
  {
   "cell_type": "code",
   "execution_count": 249,
   "id": "6e6c05d1",
   "metadata": {},
   "outputs": [
    {
     "name": "stderr",
     "output_type": "stream",
     "text": [
      "C:\\Users\\hp\\anaconda3\\lib\\site-packages\\seaborn\\_decorators.py:36: FutureWarning: Pass the following variable as a keyword arg: x. From version 0.12, the only valid positional argument will be `data`, and passing other arguments without an explicit keyword will result in an error or misinterpretation.\n",
      "  warnings.warn(\n"
     ]
    },
    {
     "data": {
      "text/plain": [
       "<AxesSubplot:xlabel='num_orders'>"
      ]
     },
     "execution_count": 249,
     "metadata": {},
     "output_type": "execute_result"
    },
    {
     "data": {
      "image/png": "[encoded data removed]",
      "text/plain": [
       "<Figure size 432x288 with 1 Axes>"
      ]
     },
     "metadata": {
      "needs_background": "light"
     },
     "output_type": "display_data"
    }
   ],
   "source": [
    "sns.boxplot(df1['num_orders'])"
   ]
  },
  {
   "cell_type": "code",
   "execution_count": 293,
   "id": "feea126f",
   "metadata": {},
   "outputs": [],
   "source": [
    "q111 = df1['num_orders'].quantile(0.25)"
   ]
  },
  {
   "cell_type": "code",
   "execution_count": 294,
   "id": "a31798ab",
   "metadata": {},
   "outputs": [],
   "source": [
    "q333 = df1['num_orders'].quantile(0.75)"
   ]
  },
  {
   "cell_type": "code",
   "execution_count": 295,
   "id": "18fa0da3",
   "metadata": {},
   "outputs": [],
   "source": [
    "iqr33 = q333 - q111"
   ]
  },
  {
   "cell_type": "code",
   "execution_count": 296,
   "id": "0a48ccd5",
   "metadata": {},
   "outputs": [],
   "source": [
    "low33 = q111 - 1.5 *iqr33"
   ]
  },
  {
   "cell_type": "code",
   "execution_count": 297,
   "id": "07e9336c",
   "metadata": {},
   "outputs": [],
   "source": [
    "high33 = q33 +1.5 *iqr33"
   ]
  },
  {
   "cell_type": "code",
   "execution_count": 298,
   "id": "6efad2d8",
   "metadata": {},
   "outputs": [
    {
     "data": {
      "text/plain": [
       "1.3013448427221928"
      ]
     },
     "execution_count": 298,
     "metadata": {},
     "output_type": "execute_result"
    }
   ],
   "source": [
    "low33"
   ]
  },
  {
   "cell_type": "code",
   "execution_count": 299,
   "id": "4529f054",
   "metadata": {},
   "outputs": [
    {
     "data": {
      "text/plain": [
       "8.81838731805245"
      ]
     },
     "execution_count": 299,
     "metadata": {},
     "output_type": "execute_result"
    }
   ],
   "source": [
    "high33"
   ]
  },
  {
   "cell_type": "code",
   "execution_count": null,
   "id": "3cefc04b",
   "metadata": {},
   "outputs": [],
   "source": [
    "df1 = df1[(df1['base_price'] > 4.54)]"
   ]
  },
  {
   "cell_type": "code",
   "execution_count": 313,
   "id": "1a0e1579",
   "metadata": {},
   "outputs": [],
   "source": [
    "df1 = df1[(df1['num_orders'] < 8.0)]"
   ]
  },
  {
   "cell_type": "code",
   "execution_count": 314,
   "id": "acb0a021",
   "metadata": {},
   "outputs": [
    {
     "name": "stderr",
     "output_type": "stream",
     "text": [
      "C:\\Users\\hp\\anaconda3\\lib\\site-packages\\seaborn\\_decorators.py:36: FutureWarning: Pass the following variable as a keyword arg: x. From version 0.12, the only valid positional argument will be `data`, and passing other arguments without an explicit keyword will result in an error or misinterpretation.\n",
      "  warnings.warn(\n"
     ]
    },
    {
     "data": {
      "text/plain": [
       "<AxesSubplot:xlabel='num_orders'>"
      ]
     },
     "execution_count": 314,
     "metadata": {},
     "output_type": "execute_result"
    },
    {
     "data": {
      "image/png": "[encoded data removed]",
      "text/plain": [
       "<Figure size 432x288 with 1 Axes>"
      ]
     },
     "metadata": {
      "needs_background": "light"
     },
     "output_type": "display_data"
    }
   ],
   "source": [
    "sns.boxplot(df1['num_orders'])"
   ]
  },
  {
   "cell_type": "markdown",
   "id": "1198f865",
   "metadata": {},
   "source": [
    "# "
   ]
  },
  {
   "cell_type": "code",
   "execution_count": 315,
   "id": "3f5c7fa3",
   "metadata": {},
   "outputs": [
    {
     "data": {
      "text/html": [
       "<div>\n",
       "<style scoped>\n",
       "    .dataframe tbody tr th:only-of-type {\n",
       "        vertical-align: middle;\n",
       "    }\n",
       "\n",
       "    .dataframe tbody tr th {\n",
       "        vertical-align: top;\n",
       "    }\n",
       "\n",
       "    .dataframe thead th {\n",
       "        text-align: right;\n",
       "    }\n",
       "</style>\n",
       "<table border=\"1\" class=\"dataframe\">\n",
       "  <thead>\n",
       "    <tr style=\"text-align: right;\">\n",
       "      <th></th>\n",
       "      <th>id</th>\n",
       "      <th>week</th>\n",
       "      <th>center_id</th>\n",
       "      <th>meal_id</th>\n",
       "      <th>checkout_price</th>\n",
       "      <th>base_price</th>\n",
       "      <th>emailer_for_promotion</th>\n",
       "      <th>homepage_featured</th>\n",
       "      <th>num_orders</th>\n",
       "    </tr>\n",
       "  </thead>\n",
       "  <tbody>\n",
       "    <tr>\n",
       "      <th>0</th>\n",
       "      <td>1379560</td>\n",
       "      <td>1</td>\n",
       "      <td>55</td>\n",
       "      <td>1885</td>\n",
       "      <td>4.918739</td>\n",
       "      <td>5.025787</td>\n",
       "      <td>0</td>\n",
       "      <td>0</td>\n",
       "      <td>5.176150</td>\n",
       "    </tr>\n",
       "    <tr>\n",
       "      <th>1</th>\n",
       "      <td>1466964</td>\n",
       "      <td>1</td>\n",
       "      <td>55</td>\n",
       "      <td>1993</td>\n",
       "      <td>4.918739</td>\n",
       "      <td>4.911404</td>\n",
       "      <td>0</td>\n",
       "      <td>0</td>\n",
       "      <td>5.598422</td>\n",
       "    </tr>\n",
       "    <tr>\n",
       "      <th>2</th>\n",
       "      <td>1346989</td>\n",
       "      <td>1</td>\n",
       "      <td>55</td>\n",
       "      <td>2539</td>\n",
       "      <td>4.904237</td>\n",
       "      <td>4.911625</td>\n",
       "      <td>0</td>\n",
       "      <td>0</td>\n",
       "      <td>5.241747</td>\n",
       "    </tr>\n",
       "    <tr>\n",
       "      <th>3</th>\n",
       "      <td>1338232</td>\n",
       "      <td>1</td>\n",
       "      <td>55</td>\n",
       "      <td>2139</td>\n",
       "      <td>5.827474</td>\n",
       "      <td>6.081145</td>\n",
       "      <td>0</td>\n",
       "      <td>0</td>\n",
       "      <td>3.988984</td>\n",
       "    </tr>\n",
       "    <tr>\n",
       "      <th>4</th>\n",
       "      <td>1448490</td>\n",
       "      <td>1</td>\n",
       "      <td>55</td>\n",
       "      <td>2631</td>\n",
       "      <td>5.495117</td>\n",
       "      <td>5.491002</td>\n",
       "      <td>0</td>\n",
       "      <td>0</td>\n",
       "      <td>3.688879</td>\n",
       "    </tr>\n",
       "    <tr>\n",
       "      <th>...</th>\n",
       "      <td>...</td>\n",
       "      <td>...</td>\n",
       "      <td>...</td>\n",
       "      <td>...</td>\n",
       "      <td>...</td>\n",
       "      <td>...</td>\n",
       "      <td>...</td>\n",
       "      <td>...</td>\n",
       "      <td>...</td>\n",
       "    </tr>\n",
       "    <tr>\n",
       "      <th>456543</th>\n",
       "      <td>1271326</td>\n",
       "      <td>145</td>\n",
       "      <td>61</td>\n",
       "      <td>1543</td>\n",
       "      <td>6.182271</td>\n",
       "      <td>6.182271</td>\n",
       "      <td>0</td>\n",
       "      <td>0</td>\n",
       "      <td>4.219508</td>\n",
       "    </tr>\n",
       "    <tr>\n",
       "      <th>456544</th>\n",
       "      <td>1062036</td>\n",
       "      <td>145</td>\n",
       "      <td>61</td>\n",
       "      <td>2304</td>\n",
       "      <td>6.178131</td>\n",
       "      <td>6.178131</td>\n",
       "      <td>0</td>\n",
       "      <td>0</td>\n",
       "      <td>3.737670</td>\n",
       "    </tr>\n",
       "    <tr>\n",
       "      <th>456545</th>\n",
       "      <td>1110849</td>\n",
       "      <td>145</td>\n",
       "      <td>61</td>\n",
       "      <td>2664</td>\n",
       "      <td>5.470925</td>\n",
       "      <td>5.771659</td>\n",
       "      <td>0</td>\n",
       "      <td>0</td>\n",
       "      <td>6.216606</td>\n",
       "    </tr>\n",
       "    <tr>\n",
       "      <th>456546</th>\n",
       "      <td>1147725</td>\n",
       "      <td>145</td>\n",
       "      <td>61</td>\n",
       "      <td>2569</td>\n",
       "      <td>5.495117</td>\n",
       "      <td>5.747289</td>\n",
       "      <td>0</td>\n",
       "      <td>0</td>\n",
       "      <td>6.591674</td>\n",
       "    </tr>\n",
       "    <tr>\n",
       "      <th>456547</th>\n",
       "      <td>1361984</td>\n",
       "      <td>145</td>\n",
       "      <td>61</td>\n",
       "      <td>2490</td>\n",
       "      <td>5.676857</td>\n",
       "      <td>5.669984</td>\n",
       "      <td>0</td>\n",
       "      <td>0</td>\n",
       "      <td>5.087596</td>\n",
       "    </tr>\n",
       "  </tbody>\n",
       "</table>\n",
       "<p>454954 rows × 9 columns</p>\n",
       "</div>"
      ],
      "text/plain": [
       "             id  week  center_id  meal_id  checkout_price  base_price  \\\n",
       "0       1379560     1         55     1885        4.918739    5.025787   \n",
       "1       1466964     1         55     1993        4.918739    4.911404   \n",
       "2       1346989     1         55     2539        4.904237    4.911625   \n",
       "3       1338232     1         55     2139        5.827474    6.081145   \n",
       "4       1448490     1         55     2631        5.495117    5.491002   \n",
       "...         ...   ...        ...      ...             ...         ...   \n",
       "456543  1271326   145         61     1543        6.182271    6.182271   \n",
       "456544  1062036   145         61     2304        6.178131    6.178131   \n",
       "456545  1110849   145         61     2664        5.470925    5.771659   \n",
       "456546  1147725   145         61     2569        5.495117    5.747289   \n",
       "456547  1361984   145         61     2490        5.676857    5.669984   \n",
       "\n",
       "        emailer_for_promotion  homepage_featured  num_orders  \n",
       "0                           0                  0    5.176150  \n",
       "1                           0                  0    5.598422  \n",
       "2                           0                  0    5.241747  \n",
       "3                           0                  0    3.988984  \n",
       "4                           0                  0    3.688879  \n",
       "...                       ...                ...         ...  \n",
       "456543                      0                  0    4.219508  \n",
       "456544                      0                  0    3.737670  \n",
       "456545                      0                  0    6.216606  \n",
       "456546                      0                  0    6.591674  \n",
       "456547                      0                  0    5.087596  \n",
       "\n",
       "[454954 rows x 9 columns]"
      ]
     },
     "execution_count": 315,
     "metadata": {},
     "output_type": "execute_result"
    }
   ],
   "source": [
    "df1"
   ]
  },
  {
   "cell_type": "code",
   "execution_count": 319,
   "id": "6dd38429",
   "metadata": {},
   "outputs": [],
   "source": [
    "x1 = df1.iloc[:,:-1]"
   ]
  },
  {
   "cell_type": "code",
   "execution_count": 321,
   "id": "94b4c258",
   "metadata": {},
   "outputs": [],
   "source": [
    "y1 = df1.iloc[:,-1]"
   ]
  },
  {
   "cell_type": "code",
   "execution_count": 316,
   "id": "887ab342",
   "metadata": {},
   "outputs": [],
   "source": [
    "#now train model"
   ]
  },
  {
   "cell_type": "code",
   "execution_count": 322,
   "id": "f56ace2b",
   "metadata": {},
   "outputs": [],
   "source": [
    "x1train,x1test,y1train,y1test = train_test_split(x1,y1,test_size = 0.20)"
   ]
  },
  {
   "cell_type": "code",
   "execution_count": null,
   "id": "e9524cdd",
   "metadata": {},
   "outputs": [],
   "source": []
  },
  {
   "cell_type": "code",
   "execution_count": 323,
   "id": "75c9bd39",
   "metadata": {},
   "outputs": [
    {
     "data": {
      "text/plain": [
       "RandomForestRegressor()"
      ]
     },
     "execution_count": 323,
     "metadata": {},
     "output_type": "execute_result"
    }
   ],
   "source": [
    "random.fit(x1train,y1train)"
   ]
  },
  {
   "cell_type": "code",
   "execution_count": 324,
   "id": "be0a3aa2",
   "metadata": {},
   "outputs": [
    {
     "data": {
      "text/plain": [
       "0.9746706435322643"
      ]
     },
     "execution_count": 324,
     "metadata": {},
     "output_type": "execute_result"
    }
   ],
   "source": [
    "random.score(x1train,y1train)"
   ]
  },
  {
   "cell_type": "code",
   "execution_count": 325,
   "id": "51983bc5",
   "metadata": {},
   "outputs": [
    {
     "data": {
      "text/plain": [
       "0.81972440989111"
      ]
     },
     "execution_count": 325,
     "metadata": {},
     "output_type": "execute_result"
    }
   ],
   "source": [
    "random.score(x1test,y1test)"
   ]
  },
  {
   "cell_type": "code",
   "execution_count": 326,
   "id": "5b3ce8bc",
   "metadata": {},
   "outputs": [],
   "source": [
    "pred1 = random.predict(x1test)"
   ]
  },
  {
   "cell_type": "code",
   "execution_count": 327,
   "id": "71c1bf50",
   "metadata": {},
   "outputs": [
    {
     "data": {
      "text/plain": [
       "0.26364996643890104"
      ]
     },
     "execution_count": 327,
     "metadata": {},
     "output_type": "execute_result"
    }
   ],
   "source": [
    "mean_squared_error(y1test,pred1)"
   ]
  },
  {
   "cell_type": "code",
   "execution_count": 331,
   "id": "99893e0d",
   "metadata": {},
   "outputs": [],
   "source": [
    "#model2"
   ]
  },
  {
   "cell_type": "code",
   "execution_count": 335,
   "id": "bfbafd79",
   "metadata": {},
   "outputs": [],
   "source": [
    "random1 = RandomForestRegressor(max_depth = 10)"
   ]
  },
  {
   "cell_type": "code",
   "execution_count": 336,
   "id": "0fbbfb8e",
   "metadata": {},
   "outputs": [
    {
     "data": {
      "text/plain": [
       "RandomForestRegressor(max_depth=10)"
      ]
     },
     "execution_count": 336,
     "metadata": {},
     "output_type": "execute_result"
    }
   ],
   "source": [
    "random1.fit(x1train,y1train)"
   ]
  },
  {
   "cell_type": "code",
   "execution_count": 337,
   "id": "55ac4d63",
   "metadata": {},
   "outputs": [
    {
     "data": {
      "text/plain": [
       "0.6286087713402639"
      ]
     },
     "execution_count": 337,
     "metadata": {},
     "output_type": "execute_result"
    }
   ],
   "source": [
    "random1.score(x1train,y1train)"
   ]
  },
  {
   "cell_type": "code",
   "execution_count": 338,
   "id": "cacfaf3c",
   "metadata": {},
   "outputs": [
    {
     "data": {
      "text/plain": [
       "0.6286087713402639"
      ]
     },
     "execution_count": 338,
     "metadata": {},
     "output_type": "execute_result"
    }
   ],
   "source": [
    "random1.score(x1train,y1train)"
   ]
  },
  {
   "cell_type": "code",
   "execution_count": 339,
   "id": "7a173bbd",
   "metadata": {},
   "outputs": [],
   "source": [
    "pred2 = random1.predict(x1test)"
   ]
  },
  {
   "cell_type": "code",
   "execution_count": 340,
   "id": "c2be1087",
   "metadata": {},
   "outputs": [
    {
     "data": {
      "text/plain": [
       "0.5477538390145755"
      ]
     },
     "execution_count": 340,
     "metadata": {},
     "output_type": "execute_result"
    }
   ],
   "source": [
    "mean_squared_error(y1test,pred2)"
   ]
  },
  {
   "cell_type": "code",
   "execution_count": 341,
   "id": "ff95178a",
   "metadata": {},
   "outputs": [],
   "source": [
    "#prediction compare"
   ]
  },
  {
   "cell_type": "code",
   "execution_count": 348,
   "id": "95711e94",
   "metadata": {},
   "outputs": [],
   "source": [
    "s = pd.DataFrame(y1test)"
   ]
  },
  {
   "cell_type": "code",
   "execution_count": null,
   "id": "6e212da8",
   "metadata": {},
   "outputs": [],
   "source": []
  },
  {
   "cell_type": "code",
   "execution_count": 346,
   "id": "f82b3516",
   "metadata": {},
   "outputs": [],
   "source": [
    "pp = pd.DataFrame(pred1)"
   ]
  },
  {
   "cell_type": "code",
   "execution_count": 347,
   "id": "03c2d687",
   "metadata": {},
   "outputs": [],
   "source": [
    "pp.columns=['num_orders']"
   ]
  },
  {
   "cell_type": "code",
   "execution_count": 352,
   "id": "61bcb2a7",
   "metadata": {},
   "outputs": [
    {
     "data": {
      "text/plain": [
       "(90991, 1)"
      ]
     },
     "execution_count": 352,
     "metadata": {},
     "output_type": "execute_result"
    }
   ],
   "source": [
    "s.shape"
   ]
  },
  {
   "cell_type": "code",
   "execution_count": 353,
   "id": "33d54629",
   "metadata": {},
   "outputs": [
    {
     "data": {
      "text/plain": [
       "(90991, 1)"
      ]
     },
     "execution_count": 353,
     "metadata": {},
     "output_type": "execute_result"
    }
   ],
   "source": [
    "pp.shape"
   ]
  },
  {
   "cell_type": "code",
   "execution_count": null,
   "id": "1324e30f",
   "metadata": {},
   "outputs": [],
   "source": []
  },
  {
   "cell_type": "code",
   "execution_count": 359,
   "id": "42bc448d",
   "metadata": {},
   "outputs": [],
   "source": [
    "#prediction"
   ]
  },
  {
   "cell_type": "code",
   "execution_count": 368,
   "id": "c2b68ca3",
   "metadata": {},
   "outputs": [],
   "source": [
    "test = pd.read_csv(r'test_QoiMO9B.csv')"
   ]
  },
  {
   "cell_type": "code",
   "execution_count": 369,
   "id": "d9bd32bc",
   "metadata": {},
   "outputs": [
    {
     "data": {
      "text/html": [
       "<div>\n",
       "<style scoped>\n",
       "    .dataframe tbody tr th:only-of-type {\n",
       "        vertical-align: middle;\n",
       "    }\n",
       "\n",
       "    .dataframe tbody tr th {\n",
       "        vertical-align: top;\n",
       "    }\n",
       "\n",
       "    .dataframe thead th {\n",
       "        text-align: right;\n",
       "    }\n",
       "</style>\n",
       "<table border=\"1\" class=\"dataframe\">\n",
       "  <thead>\n",
       "    <tr style=\"text-align: right;\">\n",
       "      <th></th>\n",
       "      <th>id</th>\n",
       "      <th>week</th>\n",
       "      <th>center_id</th>\n",
       "      <th>meal_id</th>\n",
       "      <th>checkout_price</th>\n",
       "      <th>base_price</th>\n",
       "      <th>emailer_for_promotion</th>\n",
       "      <th>homepage_featured</th>\n",
       "    </tr>\n",
       "  </thead>\n",
       "  <tbody>\n",
       "    <tr>\n",
       "      <th>0</th>\n",
       "      <td>1028232</td>\n",
       "      <td>146</td>\n",
       "      <td>55</td>\n",
       "      <td>1885</td>\n",
       "      <td>158.11</td>\n",
       "      <td>159.11</td>\n",
       "      <td>0</td>\n",
       "      <td>0</td>\n",
       "    </tr>\n",
       "    <tr>\n",
       "      <th>1</th>\n",
       "      <td>1127204</td>\n",
       "      <td>146</td>\n",
       "      <td>55</td>\n",
       "      <td>1993</td>\n",
       "      <td>160.11</td>\n",
       "      <td>159.11</td>\n",
       "      <td>0</td>\n",
       "      <td>0</td>\n",
       "    </tr>\n",
       "    <tr>\n",
       "      <th>2</th>\n",
       "      <td>1212707</td>\n",
       "      <td>146</td>\n",
       "      <td>55</td>\n",
       "      <td>2539</td>\n",
       "      <td>157.14</td>\n",
       "      <td>159.14</td>\n",
       "      <td>0</td>\n",
       "      <td>0</td>\n",
       "    </tr>\n",
       "    <tr>\n",
       "      <th>3</th>\n",
       "      <td>1082698</td>\n",
       "      <td>146</td>\n",
       "      <td>55</td>\n",
       "      <td>2631</td>\n",
       "      <td>162.02</td>\n",
       "      <td>162.02</td>\n",
       "      <td>0</td>\n",
       "      <td>0</td>\n",
       "    </tr>\n",
       "    <tr>\n",
       "      <th>4</th>\n",
       "      <td>1400926</td>\n",
       "      <td>146</td>\n",
       "      <td>55</td>\n",
       "      <td>1248</td>\n",
       "      <td>163.93</td>\n",
       "      <td>163.93</td>\n",
       "      <td>0</td>\n",
       "      <td>0</td>\n",
       "    </tr>\n",
       "  </tbody>\n",
       "</table>\n",
       "</div>"
      ],
      "text/plain": [
       "        id  week  center_id  meal_id  checkout_price  base_price  \\\n",
       "0  1028232   146         55     1885          158.11      159.11   \n",
       "1  1127204   146         55     1993          160.11      159.11   \n",
       "2  1212707   146         55     2539          157.14      159.14   \n",
       "3  1082698   146         55     2631          162.02      162.02   \n",
       "4  1400926   146         55     1248          163.93      163.93   \n",
       "\n",
       "   emailer_for_promotion  homepage_featured  \n",
       "0                      0                  0  \n",
       "1                      0                  0  \n",
       "2                      0                  0  \n",
       "3                      0                  0  \n",
       "4                      0                  0  "
      ]
     },
     "execution_count": 369,
     "metadata": {},
     "output_type": "execute_result"
    }
   ],
   "source": [
    "test.head()"
   ]
  },
  {
   "cell_type": "code",
   "execution_count": 370,
   "id": "2d7aeba3",
   "metadata": {},
   "outputs": [
    {
     "data": {
      "text/plain": [
       "id                       0\n",
       "week                     0\n",
       "center_id                0\n",
       "meal_id                  0\n",
       "checkout_price           0\n",
       "base_price               0\n",
       "emailer_for_promotion    0\n",
       "homepage_featured        0\n",
       "dtype: int64"
      ]
     },
     "execution_count": 370,
     "metadata": {},
     "output_type": "execute_result"
    }
   ],
   "source": [
    "test.isnull().sum()"
   ]
  },
  {
   "cell_type": "code",
   "execution_count": 371,
   "id": "79c1222b",
   "metadata": {},
   "outputs": [],
   "source": [
    "test['checkout_price'] = np.log(test['checkout_price'])"
   ]
  },
  {
   "cell_type": "code",
   "execution_count": 372,
   "id": "f6855144",
   "metadata": {},
   "outputs": [],
   "source": [
    "test['base_price'] = np.log(test['base_price'])"
   ]
  },
  {
   "cell_type": "code",
   "execution_count": 373,
   "id": "35bc4a08",
   "metadata": {},
   "outputs": [
    {
     "data": {
      "text/html": [
       "<div>\n",
       "<style scoped>\n",
       "    .dataframe tbody tr th:only-of-type {\n",
       "        vertical-align: middle;\n",
       "    }\n",
       "\n",
       "    .dataframe tbody tr th {\n",
       "        vertical-align: top;\n",
       "    }\n",
       "\n",
       "    .dataframe thead th {\n",
       "        text-align: right;\n",
       "    }\n",
       "</style>\n",
       "<table border=\"1\" class=\"dataframe\">\n",
       "  <thead>\n",
       "    <tr style=\"text-align: right;\">\n",
       "      <th></th>\n",
       "      <th>id</th>\n",
       "      <th>week</th>\n",
       "      <th>center_id</th>\n",
       "      <th>meal_id</th>\n",
       "      <th>checkout_price</th>\n",
       "      <th>base_price</th>\n",
       "      <th>emailer_for_promotion</th>\n",
       "      <th>homepage_featured</th>\n",
       "    </tr>\n",
       "  </thead>\n",
       "  <tbody>\n",
       "    <tr>\n",
       "      <th>0</th>\n",
       "      <td>1028232</td>\n",
       "      <td>146</td>\n",
       "      <td>55</td>\n",
       "      <td>1885</td>\n",
       "      <td>5.063291</td>\n",
       "      <td>5.069596</td>\n",
       "      <td>0</td>\n",
       "      <td>0</td>\n",
       "    </tr>\n",
       "    <tr>\n",
       "      <th>1</th>\n",
       "      <td>1127204</td>\n",
       "      <td>146</td>\n",
       "      <td>55</td>\n",
       "      <td>1993</td>\n",
       "      <td>5.075861</td>\n",
       "      <td>5.069596</td>\n",
       "      <td>0</td>\n",
       "      <td>0</td>\n",
       "    </tr>\n",
       "    <tr>\n",
       "      <th>2</th>\n",
       "      <td>1212707</td>\n",
       "      <td>146</td>\n",
       "      <td>55</td>\n",
       "      <td>2539</td>\n",
       "      <td>5.057137</td>\n",
       "      <td>5.069784</td>\n",
       "      <td>0</td>\n",
       "      <td>0</td>\n",
       "    </tr>\n",
       "    <tr>\n",
       "      <th>3</th>\n",
       "      <td>1082698</td>\n",
       "      <td>146</td>\n",
       "      <td>55</td>\n",
       "      <td>2631</td>\n",
       "      <td>5.087720</td>\n",
       "      <td>5.087720</td>\n",
       "      <td>0</td>\n",
       "      <td>0</td>\n",
       "    </tr>\n",
       "    <tr>\n",
       "      <th>4</th>\n",
       "      <td>1400926</td>\n",
       "      <td>146</td>\n",
       "      <td>55</td>\n",
       "      <td>1248</td>\n",
       "      <td>5.099440</td>\n",
       "      <td>5.099440</td>\n",
       "      <td>0</td>\n",
       "      <td>0</td>\n",
       "    </tr>\n",
       "    <tr>\n",
       "      <th>...</th>\n",
       "      <td>...</td>\n",
       "      <td>...</td>\n",
       "      <td>...</td>\n",
       "      <td>...</td>\n",
       "      <td>...</td>\n",
       "      <td>...</td>\n",
       "      <td>...</td>\n",
       "      <td>...</td>\n",
       "    </tr>\n",
       "    <tr>\n",
       "      <th>32568</th>\n",
       "      <td>1250239</td>\n",
       "      <td>155</td>\n",
       "      <td>61</td>\n",
       "      <td>1543</td>\n",
       "      <td>6.178131</td>\n",
       "      <td>6.182271</td>\n",
       "      <td>0</td>\n",
       "      <td>0</td>\n",
       "    </tr>\n",
       "    <tr>\n",
       "      <th>32569</th>\n",
       "      <td>1039516</td>\n",
       "      <td>155</td>\n",
       "      <td>61</td>\n",
       "      <td>2304</td>\n",
       "      <td>6.180203</td>\n",
       "      <td>6.180203</td>\n",
       "      <td>0</td>\n",
       "      <td>0</td>\n",
       "    </tr>\n",
       "    <tr>\n",
       "      <th>32570</th>\n",
       "      <td>1158107</td>\n",
       "      <td>155</td>\n",
       "      <td>61</td>\n",
       "      <td>2664</td>\n",
       "      <td>5.774769</td>\n",
       "      <td>5.777869</td>\n",
       "      <td>0</td>\n",
       "      <td>0</td>\n",
       "    </tr>\n",
       "    <tr>\n",
       "      <th>32571</th>\n",
       "      <td>1444235</td>\n",
       "      <td>155</td>\n",
       "      <td>61</td>\n",
       "      <td>2569</td>\n",
       "      <td>5.774769</td>\n",
       "      <td>5.777869</td>\n",
       "      <td>0</td>\n",
       "      <td>0</td>\n",
       "    </tr>\n",
       "    <tr>\n",
       "      <th>32572</th>\n",
       "      <td>1291286</td>\n",
       "      <td>155</td>\n",
       "      <td>61</td>\n",
       "      <td>2490</td>\n",
       "      <td>5.622030</td>\n",
       "      <td>5.622030</td>\n",
       "      <td>0</td>\n",
       "      <td>0</td>\n",
       "    </tr>\n",
       "  </tbody>\n",
       "</table>\n",
       "<p>32573 rows × 8 columns</p>\n",
       "</div>"
      ],
      "text/plain": [
       "            id  week  center_id  meal_id  checkout_price  base_price  \\\n",
       "0      1028232   146         55     1885        5.063291    5.069596   \n",
       "1      1127204   146         55     1993        5.075861    5.069596   \n",
       "2      1212707   146         55     2539        5.057137    5.069784   \n",
       "3      1082698   146         55     2631        5.087720    5.087720   \n",
       "4      1400926   146         55     1248        5.099440    5.099440   \n",
       "...        ...   ...        ...      ...             ...         ...   \n",
       "32568  1250239   155         61     1543        6.178131    6.182271   \n",
       "32569  1039516   155         61     2304        6.180203    6.180203   \n",
       "32570  1158107   155         61     2664        5.774769    5.777869   \n",
       "32571  1444235   155         61     2569        5.774769    5.777869   \n",
       "32572  1291286   155         61     2490        5.622030    5.622030   \n",
       "\n",
       "       emailer_for_promotion  homepage_featured  \n",
       "0                          0                  0  \n",
       "1                          0                  0  \n",
       "2                          0                  0  \n",
       "3                          0                  0  \n",
       "4                          0                  0  \n",
       "...                      ...                ...  \n",
       "32568                      0                  0  \n",
       "32569                      0                  0  \n",
       "32570                      0                  0  \n",
       "32571                      0                  0  \n",
       "32572                      0                  0  \n",
       "\n",
       "[32573 rows x 8 columns]"
      ]
     },
     "execution_count": 373,
     "metadata": {},
     "output_type": "execute_result"
    }
   ],
   "source": [
    "test"
   ]
  },
  {
   "cell_type": "code",
   "execution_count": 375,
   "id": "d9038378",
   "metadata": {},
   "outputs": [],
   "source": [
    "modelpredict = random.predict(test)"
   ]
  },
  {
   "cell_type": "code",
   "execution_count": 378,
   "id": "88f2ad87",
   "metadata": {},
   "outputs": [],
   "source": [
    "modelpredict = pd.DataFrame(modelpredict)"
   ]
  },
  {
   "cell_type": "code",
   "execution_count": 379,
   "id": "4aa012af",
   "metadata": {},
   "outputs": [],
   "source": [
    "modelpredict.columns=['num_orders']"
   ]
  },
  {
   "cell_type": "code",
   "execution_count": 381,
   "id": "93c4f2b7",
   "metadata": {},
   "outputs": [
    {
     "data": {
      "text/html": [
       "<div>\n",
       "<style scoped>\n",
       "    .dataframe tbody tr th:only-of-type {\n",
       "        vertical-align: middle;\n",
       "    }\n",
       "\n",
       "    .dataframe tbody tr th {\n",
       "        vertical-align: top;\n",
       "    }\n",
       "\n",
       "    .dataframe thead th {\n",
       "        text-align: right;\n",
       "    }\n",
       "</style>\n",
       "<table border=\"1\" class=\"dataframe\">\n",
       "  <thead>\n",
       "    <tr style=\"text-align: right;\">\n",
       "      <th></th>\n",
       "      <th>num_orders</th>\n",
       "    </tr>\n",
       "  </thead>\n",
       "  <tbody>\n",
       "    <tr>\n",
       "      <th>0</th>\n",
       "      <td>5.026364</td>\n",
       "    </tr>\n",
       "    <tr>\n",
       "      <th>1</th>\n",
       "      <td>4.675959</td>\n",
       "    </tr>\n",
       "    <tr>\n",
       "      <th>2</th>\n",
       "      <td>4.869936</td>\n",
       "    </tr>\n",
       "    <tr>\n",
       "      <th>3</th>\n",
       "      <td>4.149817</td>\n",
       "    </tr>\n",
       "    <tr>\n",
       "      <th>4</th>\n",
       "      <td>3.781496</td>\n",
       "    </tr>\n",
       "    <tr>\n",
       "      <th>...</th>\n",
       "      <td>...</td>\n",
       "    </tr>\n",
       "    <tr>\n",
       "      <th>32568</th>\n",
       "      <td>3.646553</td>\n",
       "    </tr>\n",
       "    <tr>\n",
       "      <th>32569</th>\n",
       "      <td>2.805110</td>\n",
       "    </tr>\n",
       "    <tr>\n",
       "      <th>32570</th>\n",
       "      <td>5.372273</td>\n",
       "    </tr>\n",
       "    <tr>\n",
       "      <th>32571</th>\n",
       "      <td>5.523309</td>\n",
       "    </tr>\n",
       "    <tr>\n",
       "      <th>32572</th>\n",
       "      <td>5.513913</td>\n",
       "    </tr>\n",
       "  </tbody>\n",
       "</table>\n",
       "<p>32573 rows × 1 columns</p>\n",
       "</div>"
      ],
      "text/plain": [
       "       num_orders\n",
       "0        5.026364\n",
       "1        4.675959\n",
       "2        4.869936\n",
       "3        4.149817\n",
       "4        3.781496\n",
       "...           ...\n",
       "32568    3.646553\n",
       "32569    2.805110\n",
       "32570    5.372273\n",
       "32571    5.523309\n",
       "32572    5.513913\n",
       "\n",
       "[32573 rows x 1 columns]"
      ]
     },
     "execution_count": 381,
     "metadata": {},
     "output_type": "execute_result"
    }
   ],
   "source": [
    "modelpredict"
   ]
  },
  {
   "cell_type": "code",
   "execution_count": null,
   "id": "4a347bfd",
   "metadata": {},
   "outputs": [],
   "source": []
  },
  {
   "cell_type": "code",
   "execution_count": 409,
   "id": "0a8d245a",
   "metadata": {},
   "outputs": [],
   "source": [
    "#antilog"
   ]
  },
  {
   "cell_type": "code",
   "execution_count": 410,
   "id": "24dc3bfc",
   "metadata": {},
   "outputs": [
    {
     "data": {
      "text/plain": [
       "2.302585092994046"
      ]
     },
     "execution_count": 410,
     "metadata": {},
     "output_type": "execute_result"
    }
   ],
   "source": [
    "np.log(10)"
   ]
  },
  {
   "cell_type": "code",
   "execution_count": 413,
   "id": "3ebdab34",
   "metadata": {},
   "outputs": [
    {
     "data": {
      "text/plain": [
       "10.000000000000002"
      ]
     },
     "execution_count": 413,
     "metadata": {},
     "output_type": "execute_result"
    }
   ],
   "source": [
    "np.exp(2.302585092994046)"
   ]
  },
  {
   "cell_type": "code",
   "execution_count": 417,
   "id": "7d43772a",
   "metadata": {},
   "outputs": [],
   "source": [
    "modelpredict = round(np.exp(modelpredict))"
   ]
  },
  {
   "cell_type": "code",
   "execution_count": 419,
   "id": "e41c95e4",
   "metadata": {},
   "outputs": [],
   "source": [
    "modelpredict.to_csv('prediction meal demand.csv',index=False)"
   ]
  },
  {
   "cell_type": "code",
   "execution_count": 421,
   "id": "d46b7939",
   "metadata": {},
   "outputs": [],
   "source": [
    "id = test['id']"
   ]
  },
  {
   "cell_type": "code",
   "execution_count": 425,
   "id": "cf189807",
   "metadata": {},
   "outputs": [],
   "source": [
    "modelpredict1 =pd.concat([id,modelpredict],axis =1)"
   ]
  },
  {
   "cell_type": "code",
   "execution_count": 426,
   "id": "c57a47ae",
   "metadata": {},
   "outputs": [],
   "source": [
    "modelpredict1.to_csv('prediction_meal_demand.csv',index=False)"
   ]
  },
  {
   "cell_type": "code",
   "execution_count": null,
   "id": "870391cc",
   "metadata": {},
   "outputs": [],
   "source": []
  }
 ],
 "metadata": {
  "kernelspec": {
   "display_name": "Python 3 (ipykernel)",
   "language": "python",
   "name": "python3"
  },
  "language_info": {
   "codemirror_mode": {
    "name": "ipython",
    "version": 3
   },
   "file_extension": ".py",
   "mimetype": "text/x-python",
   "name": "python",
   "nbconvert_exporter": "python",
   "pygments_lexer": "ipython3",
   "version": "3.8.8"
  }
 },
 "nbformat": 4,
 "nbformat_minor": 5
}
